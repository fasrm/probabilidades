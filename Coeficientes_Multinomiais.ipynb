{
  "nbformat": 4,
  "nbformat_minor": 0,
  "metadata": {
    "colab": {
      "provenance": []
    },
    "kernelspec": {
      "name": "python3",
      "display_name": "Python 3"
    },
    "language_info": {
      "name": "python"
    }
  },
  "cells": [
    {
      "cell_type": "markdown",
      "source": [
        "Coeficientes Multinomiais\n",
        "\n",
        "Os coeficientes multinomiais são uma extensão dos coeficientes binomiais. Eles aparecem quando você tem que expandir uma expressão que envolve mais de dois termos elevados a uma potência.\n",
        "\n",
        "Exemplo simples:\n",
        "Vamos começar com o binômio, que você provavelmente já conhece:\n",
        "\n",
        "(\n",
        "𝑥\n",
        "+\n",
        "𝑦\n",
        ")\n",
        "2\n",
        "(x+y)\n",
        "2\n",
        "\n",
        "Quando você expande isso, obtém:\n",
        "\n",
        "(\n",
        "𝑥\n",
        "+\n",
        "𝑦\n",
        ")\n",
        "2\n",
        "=\n",
        "𝑥\n",
        "2\n",
        "+\n",
        "2\n",
        "𝑥\n",
        "𝑦\n",
        "+\n",
        "𝑦\n",
        "2\n",
        "(x+y)\n",
        "2\n",
        " =x\n",
        "2\n",
        " +2xy+y\n",
        "2\n",
        "\n",
        "Aqui, o \"2\" é o coeficiente binomial.\n",
        "\n",
        "Agora, para um trinômio, vamos expandir uma expressão como:\n",
        "\n",
        "(\n",
        "𝑥\n",
        "+\n",
        "𝑦\n",
        "+\n",
        "𝑧\n",
        ")\n",
        "2\n",
        "(x+y+z)\n",
        "2\n",
        "\n",
        "Expandindo isso, você obtém:\n",
        "\n",
        "(\n",
        "𝑥\n",
        "+\n",
        "𝑦\n",
        "+\n",
        "𝑧\n",
        ")\n",
        "2\n",
        "=\n",
        "𝑥\n",
        "2\n",
        "+\n",
        "𝑦\n",
        "2\n",
        "+\n",
        "𝑧\n",
        "2\n",
        "+\n",
        "2\n",
        "𝑥\n",
        "𝑦\n",
        "+\n",
        "2\n",
        "𝑥\n",
        "𝑧\n",
        "+\n",
        "2\n",
        "𝑦\n",
        "𝑧\n",
        "(x+y+z)\n",
        "2\n",
        " =x\n",
        "2\n",
        " +y\n",
        "2\n",
        " +z\n",
        "2\n",
        " +2xy+2xz+2yz\n",
        "Os números que aparecem na frente dos termos, como o \"2\" nos termos\n",
        "2\n",
        "𝑥\n",
        "𝑦\n",
        "2xy,\n",
        "2\n",
        "𝑥\n",
        "𝑧\n",
        "2xz, e\n",
        "2\n",
        "𝑦\n",
        "𝑧\n",
        "2yz, são os coeficientes multinomiais."
      ],
      "metadata": {
        "id": "oT86ZDlYnght"
      }
    },
    {
      "cell_type": "code",
      "execution_count": 1,
      "metadata": {
        "colab": {
          "base_uri": "https://localhost:8080/"
        },
        "id": "eD2RUkU8nGu5",
        "outputId": "5c50488c-acd6-48bb-c620-cbab1f7c8ed4"
      },
      "outputs": [
        {
          "output_type": "stream",
          "name": "stdout",
          "text": [
            "O coeficiente multinomial é: 12\n"
          ]
        }
      ],
      "source": [
        "import math\n",
        "\n",
        "def coeficiente_multinomial(n, *args):\n",
        "    \"\"\"\n",
        "    Calcula o coeficiente multinomial para a expansão de (x1 + x2 + ... + xk)^n.\n",
        "\n",
        "    Parâmetros:\n",
        "    n (int): A potência à qual a expressão é elevada.\n",
        "    *args (int): Os expoentes dos termos x1, x2, ..., xk.\n",
        "\n",
        "    Retorna:\n",
        "    int: O coeficiente multinomial.\n",
        "    \"\"\"\n",
        "    # Calcula n! (fatorial de n)\n",
        "    n_fatorial = math.factorial(n)\n",
        "\n",
        "    # Calcula o produto dos fatoriais dos expoentes\n",
        "    denominador = 1\n",
        "    for arg in args:\n",
        "        denominador *= math.factorial(arg)\n",
        "\n",
        "    # O coeficiente multinomial é dado por n! / (a1! * a2! * ... * ak!)\n",
        "    coeficiente = n_fatorial // denominador\n",
        "\n",
        "    return coeficiente\n",
        "\n",
        "# Exemplo de uso:\n",
        "n = 4\n",
        "expoentes = [2, 1, 1]  # Exemplo: coeficiente do termo x^2y^1z^1 na expansão de (x + y + z)^4\n",
        "resultado = coeficiente_multinomial(n, *expoentes)\n",
        "\n",
        "print(f\"O coeficiente multinomial é: {resultado}\")\n"
      ]
    },
    {
      "cell_type": "code",
      "source": [
        "'''\n",
        "Um dos departamentos de polícia de um vilarejo é formado por 10 policiais. Se\n",
        "a política do departamento é a de possuir 5 dos policiais patrulhando as ruas,\n",
        "2 deles trabalhando todo o tempo na delegacia e 3 deles de reserva, quantas\n",
        "divisões diferentes dos 10 policiais nos três grupos são possíveis?\n",
        "'''\n",
        "import math\n",
        "\n",
        "def coeficiente_multinomial(n, *args):\n",
        "    n_fatorial = math.factorial(n)\n",
        "    denominador = 1\n",
        "    for arg in args:\n",
        "        denominador *= math.factorial(arg)\n",
        "    coeficiente = n_fatorial // denominador\n",
        "    return coeficiente\n",
        "\n",
        "# Parâmetros do problema\n",
        "n = 10\n",
        "expoentes = [5, 2, 3]  # 5 para patrulha, 2 para delegacia, 3 de reserva\n",
        "\n",
        "# Calcula o número de divisões possíveis\n",
        "divisoes_possiveis = coeficiente_multinomial(n, *expoentes)\n",
        "\n",
        "print(f\"O número de divisões possíveis é: {divisoes_possiveis}\")\n"
      ],
      "metadata": {
        "colab": {
          "base_uri": "https://localhost:8080/"
        },
        "id": "LpB2qXPAoQ_Y",
        "outputId": "b819837e-dcaa-4d64-90c6-b725e9180e83"
      },
      "execution_count": 2,
      "outputs": [
        {
          "output_type": "stream",
          "name": "stdout",
          "text": [
            "O número de divisões possíveis é: 2520\n"
          ]
        }
      ]
    },
    {
      "cell_type": "code",
      "source": [
        "'''\n",
        "Dez crianças devem ser divididas em dois times A e B com 5 crianças cada. O\n",
        "time A joga em uma liga e o time B em outra. Quantas divisões diferentes são\n",
        "possíveis?\n",
        "'''\n",
        "n = 10\n",
        "expoentes = [5, 5]\n",
        "divisoes_possiveis = coeficiente_multinomial(n, *expoentes)\n",
        "print(f\"O número de divisões possíveis é: {divisoes_possiveis}\")"
      ],
      "metadata": {
        "colab": {
          "base_uri": "https://localhost:8080/"
        },
        "id": "B1DWM7mzpt3Z",
        "outputId": "9e2f23ae-8b54-44d2-9f06-9d6119933c10"
      },
      "execution_count": 3,
      "outputs": [
        {
          "output_type": "stream",
          "name": "stdout",
          "text": [
            "O número de divisões possíveis é: 252\n"
          ]
        }
      ]
    },
    {
      "cell_type": "code",
      "source": [
        "'''\n",
        "Para jogar uma partida de basquete, 10 crianças dividem-se em dois times de 5\n",
        "cada. Quantas divisões diferentes são possíveis?\n",
        "'''\n",
        "import math\n",
        "\n",
        "def combinacao(n, k):\n",
        "    return math.factorial(n) // (math.factorial(k) * math.factorial(n - k))\n",
        "\n",
        "# Parâmetros do problema\n",
        "n = 10  # Número total de crianças\n",
        "k = 5   # Número de crianças em cada time\n",
        "\n",
        "# Calcula o número de divisões possíveis\n",
        "divisoes_possiveis = combinacao(n, k) // 2\n",
        "\n",
        "print(f\"O número de divisões diferentes possíveis é: {divisoes_possiveis}\")\n"
      ],
      "metadata": {
        "colab": {
          "base_uri": "https://localhost:8080/"
        },
        "id": "--sKNh0Sp9Ck",
        "outputId": "fcfcf2c2-bb56-45fb-f394-946cc445f78d"
      },
      "execution_count": 4,
      "outputs": [
        {
          "output_type": "stream",
          "name": "stdout",
          "text": [
            "O número de divisões diferentes possíveis é: 126\n"
          ]
        }
      ]
    },
    {
      "cell_type": "code",
      "source": [],
      "metadata": {
        "id": "0J6L6uBPqUZ0"
      },
      "execution_count": null,
      "outputs": []
    }
  ]
}