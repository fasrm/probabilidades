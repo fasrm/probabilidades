{
  "nbformat": 4,
  "nbformat_minor": 0,
  "metadata": {
    "colab": {
      "provenance": []
    },
    "kernelspec": {
      "name": "python3",
      "display_name": "Python 3"
    },
    "language_info": {
      "name": "python"
    }
  },
  "cells": [
    {
      "cell_type": "markdown",
      "source": [
        "Teorema Bionomial\n",
        "\n",
        "O Teorema Binomial é uma fórmula matemática que nos ajuda a expandir expressões do tipo (a+b)^n, onde 𝑎 e 𝑏 são números ou variáveis, e\n",
        "𝑛 é um número inteiro não-negativo.\n",
        "\n",
        "Utilidades do Teorema Binomial\n",
        "Expansão de Expressões\n",
        "\n",
        "Quando você precisa expandir uma expressão como\n",
        "(\n",
        "𝑎\n",
        "+\n",
        "𝑏\n",
        ")\n",
        "𝑛\n",
        "(a+b)\n",
        "n\n",
        " , em vez de multiplicar tudo manualmente (o que pode ser demorado e sujeito a erros), você pode usar o Teorema Binomial para obter rapidamente a forma expandida. Isso é útil em álgebra quando estamos resolvendo equações ou simplificando expressões.\n",
        "Exemplo: Imagine que você tem que expandir\n",
        "(\n",
        "2\n",
        "+\n",
        "3\n",
        ")\n",
        "5\n",
        "(2+3)\n",
        "5\n",
        " . Fazer isso manualmente seria complicado, mas com o Teorema Binomial, você pode usar os termos combinatórios e expandir facilmente sem precisar multiplicar várias vezes.\n",
        "\n",
        "Teoria das Probabilidades\n",
        "\n",
        "O Teorema Binomial é usado para calcular probabilidades em experimentos que têm dois resultados possíveis (sucesso ou fracasso), como em lançamentos de moedas ou testes de Bernoulli.\n",
        "Exemplo: Se você joga uma moeda 10 vezes e quer saber a probabilidade de obter exatamente 6 caras, o Teorema Binomial ajuda a calcular isso de forma eficiente.\n",
        "\n",
        "Cálculo de Coeficientes\n",
        "\n",
        "O Teorema Binomial nos dá os coeficientes dos termos quando expandimos\n",
        "(\n",
        "𝑎\n",
        "+\n",
        "𝑏\n",
        ")\n",
        "𝑛\n",
        "(a+b)\n",
        "n\n",
        " . Esses coeficientes têm significados importantes em várias áreas da matemática, como na combinação e na contagem.\n",
        "Exemplo: Em\n",
        "(\n",
        "𝑎\n",
        "+\n",
        "𝑏\n",
        ")\n",
        "3\n",
        "=\n",
        "𝑎\n",
        "3\n",
        "+\n",
        "3\n",
        "𝑎\n",
        "2\n",
        "𝑏\n",
        "+\n",
        "3\n",
        "𝑎\n",
        "𝑏\n",
        "2\n",
        "+\n",
        "𝑏\n",
        "3\n",
        "(a+b)\n",
        "3\n",
        " =a\n",
        "3\n",
        " +3a\n",
        "2\n",
        " b+3ab\n",
        "2\n",
        " +b\n",
        "3\n",
        " , os números 1, 3, 3, 1 são os coeficientes e aparecem em muitos contextos, como o Triângulo de Pascal.\n",
        "\n",
        "Física e Engenharia\n",
        "\n",
        "Muitas vezes, em física e engenharia, precisamos expandir termos para simplificar a resolução de problemas, especialmente em séries de Taylor e em cálculos de aproximação.\n",
        "Exemplo: Na mecânica quântica, quando se trabalha com operadores ou funções de onda, o Teorema Binomial pode ser usado para expandir potências de operadores.\n",
        "\n",
        "Computação\n",
        "\n",
        "Em ciência da computação, o Teorema Binomial é útil em algoritmos que lidam com grandes potências ou séries de dados. Ele pode ser usado para otimizar cálculos e simulações.\n",
        "Resumindo\n",
        "O Teorema Binomial é uma ferramenta que simplifica cálculos, ajuda a calcular probabilidades, e é aplicado em várias áreas práticas como física, engenharia e computação. Ele facilita a expansão de expressões matemáticas e nos dá uma maneira eficiente de trabalhar com potências, economizando tempo e esforço."
      ],
      "metadata": {
        "id": "81yhlDuHh_LF"
      }
    },
    {
      "cell_type": "code",
      "execution_count": 1,
      "metadata": {
        "id": "zZLTi-j-f5Jm"
      },
      "outputs": [],
      "source": [
        "import math\n",
        "\n",
        "def binomial_coefficient(n, k):\n",
        "    \"\"\"Calcula o coeficiente binomial 'n choose k'.\"\"\"\n",
        "    return math.comb(n, k)\n",
        "\n",
        "def binomial_expansion(a, b, n):\n",
        "    \"\"\"Expande (a + b)^n usando o Teorema Binomial.\"\"\"\n",
        "    expansion = []\n",
        "    for k in range(n + 1):\n",
        "        coefficient = binomial_coefficient(n, k)\n",
        "        term_a = a**(n - k)\n",
        "        term_b = b**k\n",
        "        term = coefficient * term_a * term_b\n",
        "        expansion.append(term)\n",
        "    return expansion\n",
        "\n",
        "\n"
      ]
    },
    {
      "cell_type": "code",
      "source": [
        "# Exemplo de uso:\n",
        "a = 1\n",
        "b = 2\n",
        "n = 3\n",
        "\n",
        "expansion = binomial_expansion(a, b, n)\n",
        "print(f\"A expansão de ({a} + {b})^{n} é:\", expansion)"
      ],
      "metadata": {
        "colab": {
          "base_uri": "https://localhost:8080/"
        },
        "id": "DyvDKXuqf8RR",
        "outputId": "ee8ce903-2e4a-4840-fe5e-8cd5bca4fcac"
      },
      "execution_count": 4,
      "outputs": [
        {
          "output_type": "stream",
          "name": "stdout",
          "text": [
            "A expansão de (1 + 2)^3 é: [1, 6, 12, 8]\n"
          ]
        }
      ]
    },
    {
      "cell_type": "code",
      "source": [
        "import math\n",
        "from sympy import symbols, expand\n",
        "\n",
        "def binomial_coefficient(n, k):\n",
        "    \"\"\"Calcula o coeficiente binomial 'n choose k'.\"\"\"\n",
        "    return math.comb(n, k)\n",
        "\n",
        "def binomial_expansion(a, b, n):\n",
        "    \"\"\"Expande (a + b)^n usando o Teorema Binomial.\"\"\"\n",
        "    expansion = []\n",
        "    for k in range(n + 1):\n",
        "        coefficient = binomial_coefficient(n, k)\n",
        "        term_a = a**(n - k)\n",
        "        term_b = b**k\n",
        "        term = coefficient * term_a * term_b\n",
        "        expansion.append(term)\n",
        "    return expansion\n",
        "\n",
        "def symbolic_expansion(x, b, n):\n",
        "    \"\"\"Expande simbolicamente a expressão (x + b)^n.\"\"\"\n",
        "    expr = (x + b) ** n\n",
        "    expanded_expr = expand(expr)\n",
        "    return expanded_expr\n",
        "\n",
        "\n"
      ],
      "metadata": {
        "id": "hHmQU6IpgFyD"
      },
      "execution_count": 5,
      "outputs": []
    },
    {
      "cell_type": "code",
      "source": [
        "# Exemplo de uso:\n",
        "a = 2\n",
        "b = 3\n",
        "n = 4\n",
        "\n",
        "expansion = binomial_expansion(a, b, n)\n",
        "print(f\"A expansão de ({a} + {b})^{n} é:\", expansion)\n",
        "\n"
      ],
      "metadata": {
        "colab": {
          "base_uri": "https://localhost:8080/"
        },
        "id": "5L02fplMhHjo",
        "outputId": "7a418909-0fd6-4eb3-8353-039009d247bb"
      },
      "execution_count": 6,
      "outputs": [
        {
          "output_type": "stream",
          "name": "stdout",
          "text": [
            "A expansão de (2 + 3)^4 é: [16, 96, 216, 216, 81]\n"
          ]
        }
      ]
    },
    {
      "cell_type": "code",
      "source": [
        "# Usando variáveis simbólicas para expandir (x + 2)^3\n",
        "x = symbols('x')\n",
        "b_value = 2\n",
        "n_value = 3\n",
        "\n",
        "symbolic_expr = symbolic_expansion(x, b_value, n_value)\n",
        "print(f\"A expansão simbólica de (x + {b_value})^{n_value} é:\", symbolic_expr)"
      ],
      "metadata": {
        "colab": {
          "base_uri": "https://localhost:8080/"
        },
        "id": "GPs7sARJhLzf",
        "outputId": "8850efeb-0c7d-498a-8ed5-a94d9065daab"
      },
      "execution_count": 7,
      "outputs": [
        {
          "output_type": "stream",
          "name": "stdout",
          "text": [
            "A expansão simbólica de (x + 2)^3 é: x**3 + 6*x**2 + 12*x + 8\n"
          ]
        }
      ]
    },
    {
      "cell_type": "code",
      "source": [
        "x = symbols('x')\n",
        "y = symbols('y')\n",
        "n_value = 3\n",
        "\n",
        "symbolic_expr = symbolic_expansion(x, y, n_value)\n",
        "print(f\"A expansão simbólica de (x + {y})^{n_value} é:\", symbolic_expr)"
      ],
      "metadata": {
        "colab": {
          "base_uri": "https://localhost:8080/"
        },
        "id": "APjelGgIhNgT",
        "outputId": "8ccdf7fa-0830-4b6d-ff78-39ea9df6cb8f"
      },
      "execution_count": 8,
      "outputs": [
        {
          "output_type": "stream",
          "name": "stdout",
          "text": [
            "A expansão simbólica de (x + y)^3 é: x**3 + 3*x**2*y + 3*x*y**2 + y**3\n"
          ]
        }
      ]
    },
    {
      "cell_type": "code",
      "source": [
        "x = symbols('a')\n",
        "y = symbols('b')\n",
        "n_value = 2\n",
        "\n",
        "symbolic_expr = symbolic_expansion(x, y, n_value)\n",
        "print(f\"A expansão simbólica de (x + {y})^{n_value} é:\", symbolic_expr)"
      ],
      "metadata": {
        "colab": {
          "base_uri": "https://localhost:8080/"
        },
        "id": "_hqY2UNjhtxX",
        "outputId": "ecb9e1ea-ea71-4088-b553-b4bef94ad564"
      },
      "execution_count": 9,
      "outputs": [
        {
          "output_type": "stream",
          "name": "stdout",
          "text": [
            "A expansão simbólica de (x + b)^2 é: a**2 + 2*a*b + b**2\n"
          ]
        }
      ]
    },
    {
      "cell_type": "code",
      "source": [],
      "metadata": {
        "id": "F7PxHb5Eknum"
      },
      "execution_count": null,
      "outputs": []
    }
  ]
}